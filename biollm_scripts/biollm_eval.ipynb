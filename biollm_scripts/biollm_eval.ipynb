{
 "cells": [
  {
   "cell_type": "code",
   "execution_count": 1,
   "metadata": {},
   "outputs": [
    {
     "name": "stdout",
     "output_type": "stream",
     "text": [
      "Please enter the maximum memory located to JVM [8g]:\n",
      "8g maximum memory allocated to JVM.\n",
      "JVM started successfully.\n"
     ]
    }
   ],
   "source": [
    "from deeponto.align.oaei import biollm_eval"
   ]
  },
  {
   "cell_type": "code",
   "execution_count": 2,
   "metadata": {},
   "outputs": [
    {
     "data": {
      "text/plain": [
       "{'P': 0.643,\n",
       " 'R': 0.72,\n",
       " 'F1': 0.679,\n",
       " 'Hits@1': 0.86,\n",
       " 'MRR': 0.9266666666666667,\n",
       " 'RR': 0.86}"
      ]
     },
     "execution_count": 2,
     "metadata": {},
     "output_type": "execute_result"
    }
   ],
   "source": [
    "biollm_eval(\"biollm_result.tsv\")"
   ]
  }
 ],
 "metadata": {
  "kernelspec": {
   "display_name": "deeponto-dev",
   "language": "python",
   "name": "python3"
  },
  "language_info": {
   "codemirror_mode": {
    "name": "ipython",
    "version": 3
   },
   "file_extension": ".py",
   "mimetype": "text/x-python",
   "name": "python",
   "nbconvert_exporter": "python",
   "pygments_lexer": "ipython3",
   "version": "3.8.17"
  },
  "orig_nbformat": 4
 },
 "nbformat": 4,
 "nbformat_minor": 2
}
