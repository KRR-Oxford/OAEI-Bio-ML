{
 "cells": [
  {
   "cell_type": "code",
   "execution_count": null,
   "metadata": {},
   "outputs": [],
   "source": [
    "from deeponto.utils import FileUtils\n",
    "from deeponto.align.mapping import EntityMapping\n",
    "from deeponto.align.oaei import *\n",
    "import pandas as pd"
   ]
  },
  {
   "cell_type": "code",
   "execution_count": null,
   "metadata": {},
   "outputs": [],
   "source": [
    "data_dir = ...\n",
    "src_onto = Ontology(...)\n",
    "tgt_onto = Ontology(...)"
   ]
  },
  {
   "cell_type": "code",
   "execution_count": null,
   "metadata": {},
   "outputs": [],
   "source": [
    "ignored_index = get_ignored_class_index(src_onto)\n",
    "ignored_index.update(get_ignored_class_index(tgt_onto))"
   ]
  },
  {
   "cell_type": "code",
   "execution_count": null,
   "metadata": {},
   "outputs": [],
   "source": [
    "melt_output = \".../systemAlignment.rdf\"  # see run_melt.sh\n",
    "preds, _ = FileUtils.read_oaei_mappings(melt_output)\n",
    "# save predictions as in DeepOnto's format\n",
    "pd.DataFrame(preds, columns=[\"SrcEntity\", \"TgtEntity\", \"Score\"]).to_csv(f\"results.tsv\", sep=\"\\t\", index=False)\n",
    "# run global matching evaluation\n",
    "matching_eval(f\"results.tsv\", f\"{data_dir}/refs_equiv/full.tsv\", None, ignored_index, 0.0)"
   ]
  }
 ],
 "metadata": {
  "kernelspec": {
   "display_name": "deeponto-dev",
   "language": "python",
   "name": "python3"
  },
  "language_info": {
   "codemirror_mode": {
    "name": "ipython",
    "version": 3
   },
   "file_extension": ".py",
   "mimetype": "text/x-python",
   "name": "python",
   "nbconvert_exporter": "python",
   "pygments_lexer": "ipython3",
   "version": "3.8.17"
  },
  "orig_nbformat": 4
 },
 "nbformat": 4,
 "nbformat_minor": 2
}
