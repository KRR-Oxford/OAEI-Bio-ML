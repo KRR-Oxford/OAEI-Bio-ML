{
 "cells": [
  {
   "cell_type": "code",
   "execution_count": null,
   "metadata": {},
   "outputs": [],
   "source": [
    "from deeponto.onto import Ontology\n",
    "from deeponto.align.oaei import *"
   ]
  },
  {
   "cell_type": "code",
   "execution_count": null,
   "metadata": {},
   "outputs": [],
   "source": [
    "data_dir = ...  # path to the OAEI data directory\n",
    "task_name = ...\n",
    "src_onto_name = ...\n",
    "tgt_onto_name = ...\n",
    "src_onto = Ontology(f\"{data_dir}/{src_onto_name}.owl\")\n",
    "tgt_onto = Ontology(f\"{data_dir}/{tgt_onto_name}.owl\")"
   ]
  },
  {
   "cell_type": "code",
   "execution_count": null,
   "metadata": {},
   "outputs": [],
   "source": [
    "ignored_index = get_ignored_class_index(src_onto)\n",
    "ignored_index.update(get_ignored_class_index(tgt_onto))"
   ]
  },
  {
   "cell_type": "code",
   "execution_count": null,
   "metadata": {},
   "outputs": [],
   "source": [
    "is_supervised = ...\n",
    "null_ref_mappings = f\"{data_dir}/refs_equiv/train.tsv\" if is_supervised else None"
   ]
  },
  {
   "cell_type": "code",
   "execution_count": null,
   "metadata": {},
   "outputs": [],
   "source": [
    "# this is equivalent to BERTMapLt's global matching evaluation\n",
    "matching_eval(\"bertmap/match/raw_mappings.tsv\", f\"{data_dir}/refs_equiv/full.tsv\", null_ref_mappings, ignored_index, 1.0)"
   ]
  },
  {
   "cell_type": "code",
   "execution_count": null,
   "metadata": {},
   "outputs": [],
   "source": [
    "# this is BERTMap's global matching evaluation\n",
    "matching_eval(\"bertmap/match/repaired_mappings.tsv\", f\"{data_dir}/refs_equiv/full.tsv\", null_ref_mappings, ignored_index, None)"
   ]
  },
  {
   "cell_type": "code",
   "execution_count": null,
   "metadata": {},
   "outputs": [],
   "source": [
    "# this is BERTMapLt's local ranking evaluation (see bertmap_rank.py)\n",
    "ranking_eval(\"bertmaplt.rank.tsv\")"
   ]
  },
  {
   "cell_type": "code",
   "execution_count": null,
   "metadata": {},
   "outputs": [],
   "source": [
    "# this is BERTMap's local ranking evaluation (see bertmap_rank.py)\n",
    "ranking_eval(\"bertmap.rank.tsv\")"
   ]
  },
  {
   "cell_type": "code",
   "execution_count": null,
   "metadata": {},
   "outputs": [],
   "source": []
  }
 ],
 "metadata": {
  "kernelspec": {
   "display_name": "deeponto-dev",
   "language": "python",
   "name": "python3"
  },
  "language_info": {
   "codemirror_mode": {
    "name": "ipython",
    "version": 3
   },
   "file_extension": ".py",
   "mimetype": "text/x-python",
   "name": "python",
   "nbconvert_exporter": "python",
   "pygments_lexer": "ipython3",
   "version": "3.8.17"
  },
  "orig_nbformat": 4
 },
 "nbformat": 4,
 "nbformat_minor": 2
}
